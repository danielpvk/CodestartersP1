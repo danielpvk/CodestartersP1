{
 "cells": [
  {
   "cell_type": "code",
   "execution_count": 50,
   "metadata": {},
   "outputs": [],
   "source": [
    "try:\n",
    "    import json\n",
    "except ImportError:\n",
    "    import simplejson as json\n",
    "\n",
    "# Import the tweepy library\n",
    "import twitter\n",
    "import pandas as pd\n",
    "from textblob import TextBlob\n",
    "import matplotlib.pyplot as plt\n",
    "import yaml\n",
    "\n",
    "from pandas import Series\n",
    "\n",
    "import time\n",
    "\n"
   ]
  },
  {
   "cell_type": "markdown",
   "metadata": {},
   "source": [
    "## first we set the twitter keys"
   ]
  },
  {
   "cell_type": "code",
   "execution_count": 15,
   "metadata": {},
   "outputs": [],
   "source": [
    "# Variables that contains the user credentials to access Twitter API \n",
    "\n",
    "api = twitter.Api(consumer_key='OcfcqAZGIvtUKWCEO9XfWhCjW',\n",
    "                      consumer_secret='jnFRZ0daR2xdzy7IEjR6ih98ej44UO2ioEkZg95INwtefXyLJU',\n",
    "                      access_token_key='54224760-OHpN11y0XuEoycqVaeXj3Bo4m7wFDKoWsAxuNDAdH',\n",
    "                      access_token_secret='p4iai7fWiuR3o2gCdzPMEgXkjW4e6wbv7I1MQQKbQ6gzn')\n"
   ]
  },
  {
   "cell_type": "markdown",
   "metadata": {},
   "source": [
    "## now lets set the parametes of how many days are we going to search"
   ]
  },
  {
   "cell_type": "code",
   "execution_count": 68,
   "metadata": {},
   "outputs": [],
   "source": [
    "results=[]\n",
    "counter=0  #counter to see how many days are going to be pulled\n",
    "newday=22;  #newday the initial day of the search\n",
    "mins = 0  #the amount of minutes to wait before realize a new query\n",
    "howmanydays=7"
   ]
  },
  {
   "cell_type": "markdown",
   "metadata": {},
   "source": [
    "## now it's time to do the search, it is important to wait 15mins between search because free twitter keys do only allow a search each 15 min"
   ]
  },
  {
   "cell_type": "code",
   "execution_count": 70,
   "metadata": {
    "scrolled": true
   },
   "outputs": [
    {
     "name": "stdout",
     "output_type": "stream",
     "text": [
      ">>>>>>>>>>>>>>>>>>>>> 0\n",
      ">>>>>>>>>>>>>>>>>>>>> 1\n",
      ">>>>>>>>>>>>>>>>>>>>> 2\n",
      ">>>>>>>>>>>>>>>>>>>>> 3\n",
      ">>>>>>>>>>>>>>>>>>>>> 4\n",
      ">>>>>>>>>>>>>>>>>>>>> 5\n",
      ">>>>>>>>>>>>>>>>>>>>> 6\n",
      ">>>>>>>>>>>>>>>>>>>>> 7\n",
      ">>>>>>>>>>>>>>>>>>>>> 8\n",
      ">>>>>>>>>>>>>>>>>>>>> 9\n",
      ">>>>>>>>>>>>>>>>>>>>> 10\n",
      ">>>>>>>>>>>>>>>>>>>>> 11\n",
      ">>>>>>>>>>>>>>>>>>>>> 12\n",
      ">>>>>>>>>>>>>>>>>>>>> 13\n",
      ">>>>>>>>>>>>>>>>>>>>> 14\n"
     ]
    }
   ],
   "source": [
    "\n",
    "while counter<howmanydays: \n",
    "  \n",
    "    day1=\"2019-03-\"+str(newday)\n",
    "    newday=newday+1\n",
    "    day2=\"2019-03-\"+str(newday)\n",
    "    result = api.GetSearch(\n",
    "           term=\"ultra2019\", count=200, lang=\"en\", return_json=True, since=day1,until =day2\n",
    "           )\n",
    "    results.append(result)\n",
    "    while mins != 15:  #the program must wait 15 minutes to do the next query due to twitter policies\n",
    "        print (\">>>>>>>>>>>>>>>>>>>>>\", mins)\n",
    "        # Sleep for a minute\n",
    "        time.sleep(60)\n",
    "        # Increment the minute total\n",
    "        mins += 1\n",
    "    counter+=1"
   ]
  },
  {
   "cell_type": "markdown",
   "metadata": {},
   "source": [
    "## All the results incorporated in a Dataframe"
   ]
  },
  {
   "cell_type": "code",
   "execution_count": 63,
   "metadata": {},
   "outputs": [],
   "source": [
    "aux=0\n",
    "for entitie in results:\n",
    "    data=entitie['statuses']\n",
    "    if aux==0:\n",
    "        df=pd.DataFrame(data)\n",
    "    else:\n",
    "        dfaux=pd.DataFrame(data)\n",
    "        df=pd.Concat(df,dfaux)\n",
    " \n",
    "        "
   ]
  },
  {
   "cell_type": "markdown",
   "metadata": {},
   "source": [
    "## and we save this dataframe into a CSV file  (note: xyz is the number of the file)"
   ]
  },
  {
   "cell_type": "code",
   "execution_count": null,
   "metadata": {},
   "outputs": [],
   "source": [
    "ultra1_csv = df.to_csv(\"ultraXYZ.csv\")"
   ]
  }
 ],
 "metadata": {
  "kernelspec": {
   "display_name": "Python 3",
   "language": "python",
   "name": "python3"
  },
  "language_info": {
   "codemirror_mode": {
    "name": "ipython",
    "version": 3
   },
   "file_extension": ".py",
   "mimetype": "text/x-python",
   "name": "python",
   "nbconvert_exporter": "python",
   "pygments_lexer": "ipython3",
   "version": "3.7.1"
  }
 },
 "nbformat": 4,
 "nbformat_minor": 2
}
