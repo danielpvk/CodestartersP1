{
 "cells": [
  {
   "cell_type": "code",
   "execution_count": 2,
   "metadata": {},
   "outputs": [],
   "source": [
    "try:\n",
    "    import json\n",
    "except ImportError:\n",
    "    import simplejson as json\n",
    "\n",
    "# Import the tweepy library\n",
    "import twitter"
   ]
  },
  {
   "cell_type": "code",
   "execution_count": 3,
   "metadata": {},
   "outputs": [],
   "source": [
    "# Variables that contains the user credentials to access Twitter API \n",
    "\n",
    "api = twitter.Api(consumer_key='OcfcqAZGIvtUKWCEO9XfWhCjW',\n",
    "                      consumer_secret='jnFRZ0daR2xdzy7IEjR6ih98ej44UO2ioEkZg95INwtefXyLJU',\n",
    "                      access_token_key='54224760-OHpN11y0XuEoycqVaeXj3Bo4m7wFDKoWsAxuNDAdH',\n",
    "                      access_token_secret='p4iai7fWiuR3o2gCdzPMEgXkjW4e6wbv7I1MQQKbQ6gzn')\n",
    "# Setup tweepy to authenticate with Twitter credentials\n"
   ]
  },
  {
   "cell_type": "code",
   "execution_count": 22,
   "metadata": {},
   "outputs": [],
   "source": [
    "\n",
    "results = api.GetSearch(\n",
    "    raw_query=\"q=asalto%20since%3A2019-03-06&src=typd&lang=es\")\n",
    "\n",
    "\n"
   ]
  },
  {
   "cell_type": "code",
   "execution_count": 23,
   "metadata": {},
   "outputs": [
    {
     "name": "stdout",
     "output_type": "stream",
     "text": [
      "[Status(ID=1112079520432115712, ScreenName=opinionpubmx, Created=Sat Mar 30 19:49:53 +0000 2019, Text='Casual. Dándole la razón a Mr. Trump.\\nLa migrante hondureña que rechazó frijoles fue detenida por presunto asalto a… https://t.co/1wJtgQqFAw'), Status(ID=1112079445354004485, ScreenName=CortamortajaMx, Created=Sat Mar 30 19:49:35 +0000 2019, Text='#HaceUnosMomentos | en Juchitán, #Oaxaca Policía Municipal detiene a presunto asaltante.\\nEl detenido minutos antes… https://t.co/dwvhPKKZvQ'), Status(ID=1112079394623807488, ScreenName=acm_dinoo, Created=Sat Mar 30 19:49:23 +0000 2019, Text='RT @lupitodrn: -no te preocupes we, ya le hablamos a la policia pa que agarren al wey que te asalto\\n\\n-la policia: https://t.co/vjU8QKtAiq'), Status(ID=1112079385715191815, ScreenName=keylasalazar001, Created=Sat Mar 30 19:49:21 +0000 2019, Text='RT @lupitodrn: -no te preocupes we, ya le hablamos a la policia pa que agarren al wey que te asalto\\n\\n-la policia: https://t.co/vjU8QKtAiq'), Status(ID=1112079384423383040, ScreenName=sintesisdetamps, Created=Sat Mar 30 19:49:21 +0000 2019, Text='DETIENEN A LADY FRIJOLES ACUSADA DE ASALTO AGRAVADO ⤵\\nhttps://t.co/ct9eqkuHMV\\n\\n#LadyFrijoles #Viral https://t.co/cF9x5xWloK'), Status(ID=1112079381026037760, ScreenName=cpili30, Created=Sat Mar 30 19:49:20 +0000 2019, Text='RT @lupitodrn: -no te preocupes we, ya le hablamos a la policia pa que agarren al wey que te asalto\\n\\n-la policia: https://t.co/vjU8QKtAiq'), Status(ID=1112079358179500032, ScreenName=andreaochooaa, Created=Sat Mar 30 19:49:15 +0000 2019, Text='RT @lupitodrn: -no te preocupes we, ya le hablamos a la policia pa que agarren al wey que te asalto\\n\\n-la policia: https://t.co/vjU8QKtAiq'), Status(ID=1112079324037947392, ScreenName=dannafndap, Created=Sat Mar 30 19:49:06 +0000 2019, Text='RT @lupitodrn: -no te preocupes we, ya le hablamos a la policia pa que agarren al wey que te asalto\\n\\n-la policia: https://t.co/vjU8QKtAiq'), Status(ID=1112079242660139009, ScreenName=Itzel_Banuelos, Created=Sat Mar 30 19:48:47 +0000 2019, Text='RT @lupitodrn: -no te preocupes we, ya le hablamos a la policia pa que agarren al wey que te asalto\\n\\n-la policia: https://t.co/vjU8QKtAiq'), Status(ID=1112079175546892288, ScreenName=DianaLauraMero, Created=Sat Mar 30 19:48:31 +0000 2019, Text='RT @lupitodrn: -no te preocupes we, ya le hablamos a la policia pa que agarren al wey que te asalto\\n\\n-la policia: https://t.co/vjU8QKtAiq'), Status(ID=1112079113580240896, ScreenName=Bren4848, Created=Sat Mar 30 19:48:16 +0000 2019, Text='RT @liderfiscal: @lopezobrador_  No le teme a la oposición y se presenta en situaciones inlcuso que representan un riesgo para su integrida…'), Status(ID=1112079109365092354, ScreenName=vastiqga, Created=Sat Mar 30 19:48:15 +0000 2019, Text='RT @lupitodrn: -no te preocupes we, ya le hablamos a la policia pa que agarren al wey que te asalto\\n\\n-la policia: https://t.co/vjU8QKtAiq'), Status(ID=1112079040901509120, ScreenName=Paularg_97, Created=Sat Mar 30 19:47:59 +0000 2019, Text='RT @lupitodrn: -no te preocupes we, ya le hablamos a la policia pa que agarren al wey que te asalto\\n\\n-la policia: https://t.co/vjU8QKtAiq'), Status(ID=1112078955241263106, ScreenName=3DreamsProjects, Created=Sat Mar 30 19:47:39 +0000 2019, Text='RT @club_goma: #ProjectCars2 | Último asalto en la #elyssessportseries ‼️\\n\\n📌 Barcelona GP 🇪🇸\\n🗓️ 30/3/2019\\n⏰ 19:00h Qualy + Race\\n🎙️ @chemaro…'), Status(ID=1112078951780962304, ScreenName=stefanocasini4, Created=Sat Mar 30 19:47:38 +0000 2019, Text='RT @TelemundoUY: Delincuentes mataron al dueño de una panadería, un hombre de 84 años, durante un asalto https://t.co/819fv1vw30')]\n"
     ]
    }
   ],
   "source": [
    "print(results)"
   ]
  },
  {
   "cell_type": "code",
   "execution_count": null,
   "metadata": {},
   "outputs": [],
   "source": []
  }
 ],
 "metadata": {
  "kernelspec": {
   "display_name": "Python 3",
   "language": "python",
   "name": "python3"
  },
  "language_info": {
   "codemirror_mode": {
    "name": "ipython",
    "version": 3
   },
   "file_extension": ".py",
   "mimetype": "text/x-python",
   "name": "python",
   "nbconvert_exporter": "python",
   "pygments_lexer": "ipython3",
   "version": "3.7.1"
  }
 },
 "nbformat": 4,
 "nbformat_minor": 2
}
